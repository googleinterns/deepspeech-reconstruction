{
 "cells": [
  {
   "cell_type": "code",
   "execution_count": null,
   "metadata": {},
   "outputs": [],
   "source": [
    "import glob\n",
    "import os\n",
    "import subprocess\n",
    "from pydub import AudioSegment\n",
    "from audio import Audio"
   ]
  },
  {
   "cell_type": "code",
   "execution_count": null,
   "metadata": {},
   "outputs": [],
   "source": [
    "audio = Audio(cache_dir='/home/trungvd/.deep-speaker-wd/triplet-training')\n",
    "sp_to_utt_test = train_test_sp_to_utt(audio, is_test=True)\n",
    "print(len(sp_to_utt_test))"
   ]
  },
  {
   "cell_type": "code",
   "execution_count": null,
   "metadata": {},
   "outputs": [],
   "source": [
    "utts = []\n",
    "for transcript_path in glob.glob('/home/trungvd/.deep-speaker-wd/LibriSpeech/test-clean/**/**/*.txt'):\n",
    "    with open(transcript_path) as f:\n",
    "        utts += f.read().split('\\n')\n",
    "utts = [u.split(' ', 1) for u in utts if len(u) > 0]\n",
    "print(len(utts))"
   ]
  },
  {
   "cell_type": "code",
   "execution_count": 24,
   "metadata": {},
   "outputs": [],
   "source": [
    "utts = sorted(utts, key=lambda s: len(s[1]))"
   ]
  },
  {
   "cell_type": "code",
   "execution_count": 25,
   "metadata": {},
   "outputs": [
    {
     "name": "stdout",
     "output_type": "stream",
     "text": [
      "[['121-123852-0001', 'AY ME'], ['8555-292519-0002', 'VENICE'], ['237-134500-0025', 'OH EMIL'], ['672-122797-0033', 'A STORY'], ['7127-75947-0012', 'INDEED AH'], ['2094-142345-0041', 'DIRECTION'], ['2830-3980-0026', 'VERSE TWO'], ['260-123440-0001', 'POOR ALICE'], ['1089-134691-0018', 'AGAIN AGAIN'], ['237-134500-0001', 'MARIE SIGHED']]\n"
     ]
    }
   ],
   "source": [
    "print(utts[:10])"
   ]
  },
  {
   "cell_type": "code",
   "execution_count": 35,
   "metadata": {},
   "outputs": [],
   "source": [
    "def detect_leading_silence(sound, silence_threshold=-50.0, chunk_size=10):\n",
    "    '''\n",
    "    sound is a pydub.AudioSegment\n",
    "    silence_threshold in dB\n",
    "    chunk_size in ms\n",
    "\n",
    "    iterate over chunks until you find the first one with sound\n",
    "    '''\n",
    "    trim_ms = 0 # ms\n",
    "\n",
    "    assert chunk_size > 0 # to avoid infinite loop\n",
    "    while sound[trim_ms:trim_ms+chunk_size].dBFS < silence_threshold and trim_ms < len(sound):\n",
    "        trim_ms += chunk_size\n",
    "\n",
    "    return trim_ms"
   ]
  },
  {
   "cell_type": "code",
   "execution_count": 41,
   "metadata": {},
   "outputs": [],
   "source": [
    "root = '/home/trungvd/repos/speech-reconstruction/samples/librispeech'\n",
    "os.makedirs(root, exist_ok=True)\n",
    "outputs = []\n",
    "for utt_id, transcript in utts[:100]:\n",
    "    utt_ids = utt_id.split('-')\n",
    "    fp = os.path.join('/home/trungvd/.deep-speaker-wd/LibriSpeech/test-clean/', utt_ids[0], utt_ids[1], utt_id + '.wav')\n",
    "    subprocess.run(['ffmpeg', '-i', '%s.flac' % (fp[:-4]), fp])\n",
    "    \n",
    "    sound = AudioSegment.from_file(fp, format=\"wav\")\n",
    "    start_trim = detect_leading_silence(sound)\n",
    "    end_trim = detect_leading_silence(sound.reverse())\n",
    "    duration = len(sound)    \n",
    "    trimmed_sound = sound[start_trim:duration-end_trim]\n",
    "    trimmed_sound.export(fp, format='wav')\n",
    "    \n",
    "    with open(os.path.join(root, utt_id + '.csv'), 'w') as f:\n",
    "        f.write('wav_filename,wav_filesize,transcript\\n%s,0,%s' % (fp, transcript.lower()))\n",
    "        \n",
    "    outputs.append([utt_id, transcript, len(trimmed_sound)])\n",
    "        \n",
    "outputs.sort(key=lambda o: o[-1])\n",
    "with open(os.path.join(root, 'transcript.txt'), 'w') as f:\n",
    "    f.write('\\n'.join([','.join([str(e) for e in o]) for o in outputs]))"
   ]
  },
  {
   "cell_type": "code",
   "execution_count": null,
   "metadata": {},
   "outputs": [],
   "source": []
  }
 ],
 "metadata": {
  "kernelspec": {
   "display_name": "Python 3",
   "language": "python",
   "name": "python3"
  },
  "language_info": {
   "codemirror_mode": {
    "name": "ipython",
    "version": 3
   },
   "file_extension": ".py",
   "mimetype": "text/x-python",
   "name": "python",
   "nbconvert_exporter": "python",
   "pygments_lexer": "ipython3",
   "version": "3.7.6"
  }
 },
 "nbformat": 4,
 "nbformat_minor": 4
}
